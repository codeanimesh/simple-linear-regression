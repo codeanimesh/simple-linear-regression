{
 "cells": [
  {
   "cell_type": "code",
   "execution_count": 3,
   "id": "31468e6b-0e57-4dae-b0ad-671fca4a861e",
   "metadata": {},
   "outputs": [],
   "source": [
    "import numpy as np\n",
    "import pandas as pd"
   ]
  },
  {
   "cell_type": "code",
   "execution_count": 4,
   "id": "503b734f-b004-4d76-829e-337b3c2c3535",
   "metadata": {},
   "outputs": [],
   "source": [
    "df = pd.read_csv(\"hight-weight.csv\")"
   ]
  },
  {
   "cell_type": "code",
   "execution_count": null,
   "id": "742f900b-fe14-4cc9-bc58-0bf4bacb1bb4",
   "metadata": {},
   "outputs": [],
   "source": []
  }
 ],
 "metadata": {
  "kernelspec": {
   "display_name": "Python 3 (ipykernel)",
   "language": "python",
   "name": "python3"
  },
  "language_info": {
   "codemirror_mode": {
    "name": "ipython",
    "version": 3
   },
   "file_extension": ".py",
   "mimetype": "text/x-python",
   "name": "python",
   "nbconvert_exporter": "python",
   "pygments_lexer": "ipython3",
   "version": "3.12.7"
  }
 },
 "nbformat": 4,
 "nbformat_minor": 5
}
