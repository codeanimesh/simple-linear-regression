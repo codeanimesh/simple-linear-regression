import pandas as pd
import matplotlib.pyplot as plt
import numpy as np
%matplotlib inline


df = pd.read_csv("hight-weight.csv")


df.head()





##Scatter Plot
plt.scatter(df['Weight'],df['Hight'])
plt.xlabel("Weight")
plt.ylabel("Hight")
plt.show()


#corelation
df.corr()


## Import Seborn for vesulization
import seaborn as sns
import matplotlib.pyplot as plt
sns.pairplot(df)
plt.show()




df.head()


##Independent and dependent features
X=df[['Weight']]## independent feature should be Data frame and 2 array
Y=df['Hight']##This variable can be in series or 1d array
np.array(X).reshape(-1,1)



np.array(Y).shape


## Train test split
from sklearn.model_selection import train_test_split



X_train,X_test,Y_train,Y_test=train_test_split(X,Y,test_size=0.25,random_state=42)


X_train.shape



Y_train.shape



##standerdization
from sklearn.preprocessing import StandardScaler


scaler=StandardScaler()
X_train=scaler.fit_transform(X_train)


X_test=scaler.transform(X_test)


X_test


#Apply Linear Regresssion
from sklearn.linear_model import LinearRegression



regression=LinearRegression()


regression.fit(X_train,Y_train)


print("coefficient or slope:-",regression.coef_)
print("Intercept :-",regression.intercept_)


## plot training data plot best fit line
plt.scatter(X_train,Y_train)
plt.plot(X_train,regression.predict(X_train))
plt.show()


## prediction for test deta
import numpy as np
X_test=np.array(X_test)
Y_test=np.array(Y_test)
y_pred=regression.predict(X_test)#reshape(-1,1))
print("shape of Y_test",Y_test)
print("shape of y_pred:-",y_pred)


## 1.predicted hight output=intercept +coef_(weights)
# 2. y_pred_test=156.05 +18.73(X_test)


## PErformence Metrix 
from sklearn.metrics import mean_absolute_error,mean_squared_error


mse=mean_squared_error(Y_test,y_pred)
mae=mean_absolute_error(Y_test,y_pred)
rms=np.sqrt(mse)
print("Mean Squered Error is:-",mse)
print("Mean absolute Error is:-",mae)
print("Root Mean Squered Error:-",rms)


## R2 score 
from sklearn.metrics import r2_score






