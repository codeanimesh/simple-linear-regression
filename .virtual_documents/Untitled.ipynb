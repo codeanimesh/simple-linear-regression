import pandas as pd


df = pd.read_csv("hight-weight.csv")


df


git init




